{
 "cells": [
  {
   "cell_type": "markdown",
   "metadata": {},
   "source": [
    "Recurrent Neural Networks\n",
    "=========================\n",
    "\n",
    "* The main advantange of RNN over the others architecture is that they can operate over sequences, both in the input or ouput, as you wish. This image ilustrate the possible configurations with RNN: ![RNN](http://karpathy.github.io/assets/rnn/diags.jpeg)\n",
    "    - remark: even if your data is not a sequence you still can use RNNs, see [(Be et al.)](http://arxiv.org/abs/1412.7755)\n",
    "\n",
    "\n",
    "* In RNN is assumed the inputs are not independent from each other, even more, the sequence of the input matter.\n",
    "\n",
    "\n",
    "* RNN have kind of a 'memory' (is actually a hidden state) that captures all the previous calculation made so far.\n",
    "\n",
    "\n",
    "* A vanilla RNN: ![vanilla RNN](http://d3kbpzbmcynnmx.cloudfront.net/wp-content/uploads/2015/09/rnn.jpg)\n",
    "\n"
   ]
  },
  {
   "cell_type": "code",
   "execution_count": null,
   "metadata": {
    "collapsed": true
   },
   "outputs": [],
   "source": []
  }
 ],
 "metadata": {
  "kernelspec": {
   "display_name": "Python 3",
   "language": "python",
   "name": "python3"
  },
  "language_info": {
   "codemirror_mode": {
    "name": "ipython",
    "version": 3
   },
   "file_extension": ".py",
   "mimetype": "text/x-python",
   "name": "python",
   "nbconvert_exporter": "python",
   "pygments_lexer": "ipython3",
   "version": "3.6.0"
  }
 },
 "nbformat": 4,
 "nbformat_minor": 0
}
